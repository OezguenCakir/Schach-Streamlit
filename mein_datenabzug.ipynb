{
 "cells": [
  {
   "cell_type": "markdown",
   "metadata": {},
   "source": [
    "# Chess.com Datenabzug\n",
    "### 23.12.2022\n",
    "Download meiner Daten aus Chess.com über die [Chess.com API](https://www.chess.com/news/view/published-data-api) und Zusammenfassung als einzelne JSON-Datei"
   ]
  },
  {
   "cell_type": "code",
   "execution_count": 18,
   "metadata": {},
   "outputs": [],
   "source": [
    "import pandas as pd\n",
    "import chess.pgn\n",
    "import urllib\n",
    "import urllib.request\n",
    "import json\n",
    "import chess.pgn\n",
    "import re\n",
    "import sys\n",
    "import os.path\n",
    "import pathlib\n",
    "import logging\n",
    "from datetime import datetime\n",
    "import sys, traceback"
   ]
  },
  {
   "attachments": {},
   "cell_type": "markdown",
   "metadata": {},
   "source": [
    "### Löschen möglicher alter PGN-Dateien"
   ]
  },
  {
   "cell_type": "code",
   "execution_count": 19,
   "metadata": {},
   "outputs": [],
   "source": [
    "for f in os.listdir('data'):\n",
    "    os.remove(os.path.join('data', f))"
   ]
  },
  {
   "cell_type": "markdown",
   "metadata": {},
   "source": [
    "### Download monatliche Stände"
   ]
  },
  {
   "cell_type": "code",
   "execution_count": 20,
   "metadata": {},
   "outputs": [
    {
     "name": "stdout",
     "output_type": "stream",
     "text": [
      "Alle Dateien wurden heruntergeladen.\n"
     ]
    }
   ],
   "source": [
    "# Use of the api to download monthly archives\n",
    "\n",
    "username = \"oezguen\" \n",
    "baseUrl = \"https://api.chess.com/pub/player/\" + username + \"/games/\"\n",
    "archivesUrl = baseUrl + \"archives\"\n",
    "\n",
    "# read the archives url and store in a list\n",
    "f = urllib.request.urlopen(archivesUrl)\n",
    "archives = f.read().decode(\"utf-8\")\n",
    "archives = archives.replace(\"{\\\"archives\\\":[\\\"\", \"\\\",\\\"\")\n",
    "archivesList = archives.split(\"\\\",\\\"\" + baseUrl)\n",
    "archivesList[len(archivesList)-1] = archivesList[len(archivesList)-1].rstrip(\"\\\"]}\")\n",
    "\n",
    "# download all the archives\n",
    "for i in range(len(archivesList)-1):\n",
    "    url = baseUrl + archivesList[i+1] + \"/pgn\"\n",
    "    filename = archivesList[i+1].replace(\"/\", \"-\")\n",
    "    urllib.request.urlretrieve(url, \"data/\" + filename + \".pgn\")\n",
    "    print(filename + \".pgn wird heruntergeladen.\", end=\"\\r\")\n",
    "print (\"Alle Dateien wurden heruntergeladen.\")"
   ]
  },
  {
   "cell_type": "markdown",
   "metadata": {},
   "source": [
    "### Zusammenfassung als eine JSON-Datei"
   ]
  },
  {
   "cell_type": "code",
   "execution_count": 21,
   "metadata": {},
   "outputs": [
    {
     "name": "stdout",
     "output_type": "stream",
     "text": [
      "2023-01.pgn\r"
     ]
    }
   ],
   "source": [
    "\n",
    "log = logging.getLogger().error\n",
    "inp_dir = pathlib.Path('data/')\n",
    "out_dir = pathlib.Path('')\n",
    "\n",
    "def get_file_list(local_path):\n",
    "    tree = os.walk(str(local_path))\n",
    "    file_list = []\n",
    "    out = []\n",
    "    test = r'.+pgn$'\n",
    "    for i in tree:\n",
    "        file_list = i[2]\n",
    "\n",
    "    for name in file_list:\n",
    "        if(len(re.findall(test, name))):\n",
    "            out.append(str(local_path / name))\n",
    "    return out\n",
    "\n",
    "\n",
    "def get_data(pgn_file):\n",
    "    node = chess.pgn.read_game(pgn_file)\n",
    "    while node is not None:\n",
    "        data = node.headers\n",
    "        data[\"moves\"] = []\n",
    "        while node.variations:\n",
    "            next_node = node.variation(0)\n",
    "            data[\"moves\"].append(\n",
    "                    re.sub(\"\\{.*?\\}\", \"\", node.board().san(next_node.move)))\n",
    "            node = next_node\n",
    "        node = chess.pgn.read_game(pgn_file)\n",
    "        out_dict = {}\n",
    "        for key in data.keys():\n",
    "            out_dict[key] = data.get(key)\n",
    "        yield out_dict\n",
    "\n",
    "\n",
    "def convert_file(file_path):\n",
    "    file_name = file_path.name.replace(file_path.suffix, '') + '.json'\n",
    "    log('convert file '+file_path.name)\n",
    "    out_list = []\n",
    "    try:\n",
    "        json_file = open(str(out_dir / file_name), 'w')\n",
    "        pgn_file = open(str(file_path), encoding='ISO-8859-1')\n",
    "        for count_d, data in enumerate(get_data(pgn_file), start=0):\n",
    "            log(file_path.name+' '+str(count_d))\n",
    "            out_list.append(data)\n",
    "\n",
    "        log(' save '+file_path.name)\n",
    "        json.dump(out_list, json_file)\n",
    "        json_file.close()\n",
    "        log('done')\n",
    "    except Exception as e:\n",
    "        log(traceback.format_exc(10))\n",
    "        log('ERROR file '+file_name+' not converted')\n",
    "\n",
    "\n",
    "def create_join_file(file_list):\n",
    "    name = str(out_dir / 'chess_data.json')\n",
    "    open(name, 'w').close()\n",
    "    json_file = open(str(out_dir / 'my_chess_data.json'), 'a')\n",
    "    json_file.write('[')\n",
    "    for count_f, file in enumerate(file_list, start=0):\n",
    "        pgn_file = open(file, encoding='ISO-8859-1')\n",
    "        for count_d, data in enumerate(get_data(pgn_file), start=0):\n",
    "            print(str(count_f)+' '+str(count_d), end=\"\\r\")\n",
    "            if count_f or count_d:\n",
    "                json_file.write(',')\n",
    "            data_str = json.dumps(data)\n",
    "            json_file.write(data_str)\n",
    "        print(pathlib.Path(file).name, end=\"\\r\")\n",
    "    json_file.write(']')\n",
    "    json_file.close()\n",
    "\n",
    "\n",
    "file_list = get_file_list(inp_dir)\n",
    "file_list.sort()\n",
    "create_join_file(file_list)\n"
   ]
  },
  {
   "attachments": {},
   "cell_type": "markdown",
   "metadata": {},
   "source": [
    "### Löschen der PGN-Dateien"
   ]
  },
  {
   "cell_type": "code",
   "execution_count": 22,
   "metadata": {},
   "outputs": [],
   "source": [
    "for f in os.listdir('data'):\n",
    "    os.remove(os.path.join('data', f))"
   ]
  }
 ],
 "metadata": {
  "kernelspec": {
   "display_name": "Python 3.8.5 ('base')",
   "language": "python",
   "name": "python3"
  },
  "language_info": {
   "codemirror_mode": {
    "name": "ipython",
    "version": 3
   },
   "file_extension": ".py",
   "mimetype": "text/x-python",
   "name": "python",
   "nbconvert_exporter": "python",
   "pygments_lexer": "ipython3",
   "version": "3.8.5"
  },
  "orig_nbformat": 4,
  "vscode": {
   "interpreter": {
    "hash": "af592ee784abd8a1fff9aec8d3cfa28cdc80b56506d9c4f278ade371da057c8d"
   }
  }
 },
 "nbformat": 4,
 "nbformat_minor": 2
}
